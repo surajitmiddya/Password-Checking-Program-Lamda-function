{
 "cells": [
  {
   "cell_type": "markdown",
   "id": "d02e9159-12cc-45bb-8e4b-96302bcd78d6",
   "metadata": {},
   "source": [
    "Q1. You are writing code for a company. The requirement of the company is that you create a python\n",
    "function that will check whether the password entered by the user is correct or not. The function should\n",
    "take the password as input and return the string “Valid Password” if the entered password follows the\n",
    "below-given password guidelines else it should return “Invalid Password”.\n",
    "\n",
    "Note: 1. The Password should contain at least two uppercase letters and at least two lowercase letters.\n",
    "2. The Password should contain at least a number and three special characters.\n",
    "3. The length of the password should be 10 characters long."
   ]
  },
  {
   "cell_type": "code",
   "execution_count": 27,
   "id": "79047f21-424e-4fe9-994e-2d86fe5a7007",
   "metadata": {},
   "outputs": [
    {
     "name": "stdout",
     "output_type": "stream",
     "text": [
      "Invalid Password: Password should be exactly 10 characters long.\n",
      "Invalid Password: Password should contain at least three special characters.\n",
      "Valid Password\n",
      "Valid Password\n"
     ]
    }
   ],
   "source": [
    "import re\n",
    "\n",
    "def check_password(password):\n",
    "    if len(password) != 10:\n",
    "        return \"Invalid Password: Password should be exactly 10 characters long.\"\n",
    "    if not re.search(r'[A-Z].*[A-Z]', password):\n",
    "        return \"Invalid Password: Password should contain at least two uppercase letters.\"\n",
    "    if not re.search(r'[a-z].*[a-z]', password):\n",
    "        return \"Invalid Password: Password should contain at least two lowercase letters.\"\n",
    "    if not re.search(r'\\d', password):\n",
    "        return \"Invalid Password: Password should contain at least one digit.\"\n",
    "    if not re.search(r'[^a-zA-Z\\d\\s]', password) or len(re.findall(r'[^a-zA-Z\\d\\s]', password)) < 3:\n",
    "        return \"Invalid Password: Password should contain at least three special characters.\"\n",
    "    else:\n",
    "        return \"Valid Password\"\n",
    "\n",
    "# Example usage:\n",
    "password1 = \"Abcdef123@@\" # Invalid password: Password should be 10 characters long\n",
    "password2 = \"ABcdef123@\" # Invalid password: Password should contain at least three special characters.\n",
    "password3 = \"AbcdE5#@@2\" # Valid password\n",
    "\n",
    "print(check_password(password1)) \n",
    "print(check_password(password2)) \n",
    "print(check_password(password3)) \n",
    "print(check_password('SuMidd5!@#'))"
   ]
  },
  {
   "cell_type": "markdown",
   "id": "d73a08bb-2bab-4773-8e1e-e297243e6ee3",
   "metadata": {},
   "source": [
    "Q2. Solve the below-given questions using at least one of the following:\n",
    "1. Lambda function\n",
    "2. Filter function\n",
    "3. Map function\n",
    "4. List Comprehension"
   ]
  },
  {
   "cell_type": "markdown",
   "id": "ac59cfdb-762a-4087-ad48-395a2acf170a",
   "metadata": {},
   "source": [
    " # Q2.i) Check if the string starts with a particular letter"
   ]
  },
  {
   "cell_type": "code",
   "execution_count": 13,
   "id": "590c4153-5954-4a45-a159-4e8263b7ac65",
   "metadata": {},
   "outputs": [
    {
     "data": {
      "text/plain": [
       "True"
      ]
     },
     "execution_count": 13,
     "metadata": {},
     "output_type": "execute_result"
    }
   ],
   "source": [
    "# the lambda function starts_with_a takes a string x as an input and returns True if the string starts with the letter 'a', and False otherwise.\n",
    "start_with_s=lambda x: x.startswith('s') or x.startswith('S')\n",
    "start_with_s('Surajit')"
   ]
  },
  {
   "cell_type": "code",
   "execution_count": 14,
   "id": "f1c6c45f-a713-4770-a6be-e46b7970e899",
   "metadata": {},
   "outputs": [
    {
     "data": {
      "text/plain": [
       "False"
      ]
     },
     "execution_count": 14,
     "metadata": {},
     "output_type": "execute_result"
    }
   ],
   "source": [
    "start_with_s('Pwskills')"
   ]
  },
  {
   "cell_type": "markdown",
   "id": "132e8c01-2831-430f-8e36-7180e9ec3636",
   "metadata": {},
   "source": [
    "# Q2.ii) Check if the string is numeric"
   ]
  },
  {
   "cell_type": "code",
   "execution_count": 17,
   "id": "04c8d806-4ccb-4ced-9568-bd5aae573e21",
   "metadata": {},
   "outputs": [
    {
     "data": {
      "text/plain": [
       "True"
      ]
     },
     "execution_count": 17,
     "metadata": {},
     "output_type": "execute_result"
    }
   ],
   "source": [
    "check_numeric=lambda x: x.isnumeric()\n",
    "check_numeric('123456')"
   ]
  },
  {
   "cell_type": "code",
   "execution_count": 18,
   "id": "9c875857-7dbf-41e6-a1cb-3e9af85afd0f",
   "metadata": {},
   "outputs": [
    {
     "data": {
      "text/plain": [
       "False"
      ]
     },
     "execution_count": 18,
     "metadata": {},
     "output_type": "execute_result"
    }
   ],
   "source": [
    "check_numeric('Pw123456')"
   ]
  },
  {
   "cell_type": "markdown",
   "id": "5c94d3a4-ce3d-4339-9da6-1bfda5aff629",
   "metadata": {},
   "source": [
    "# Q2. iii) Sort a list of tuples having fruit names and their quantity. [(\"mango\",99),(\"orange\",80), (\"grapes\", 1000)]"
   ]
  },
  {
   "cell_type": "code",
   "execution_count": 56,
   "id": "d911ff58-c5c7-42d9-ab53-a1c80685ac77",
   "metadata": {},
   "outputs": [
    {
     "name": "stdout",
     "output_type": "stream",
     "text": [
      "[('orange', 80), ('mango', 99), ('grapes', 1000)]\n"
     ]
    }
   ],
   "source": [
    "fruits = [(\"mango\", 99), (\"orange\", 80), (\"grapes\", 1000)]\n",
    "sorted_fruits = sorted(fruits, key=lambda x: x[1], reverse=False)  # sort by quantity\n",
    "\n",
    "print(sorted_fruits)"
   ]
  },
  {
   "cell_type": "markdown",
   "id": "63af915f-ecd5-4009-beeb-2abb14492399",
   "metadata": {},
   "source": [
    "# Q2. iv) Find the squares of numbers from 1 to 10"
   ]
  },
  {
   "cell_type": "code",
   "execution_count": 34,
   "id": "43ed755e-8b0c-4626-97ee-610f73c93f3e",
   "metadata": {},
   "outputs": [
    {
     "data": {
      "text/plain": [
       "[1, 4, 9, 16, 25, 36, 49, 64, 81, 100]"
      ]
     },
     "execution_count": 34,
     "metadata": {},
     "output_type": "execute_result"
    }
   ],
   "source": [
    "list(map(lambda x: x**2, range(1,11)))"
   ]
  },
  {
   "cell_type": "code",
   "execution_count": 35,
   "id": "fd3fcea4-0722-47f0-9cac-a29bc462f07e",
   "metadata": {},
   "outputs": [],
   "source": [
    "#Alternatively\n",
    "def square(x):\n",
    "    return x**2"
   ]
  },
  {
   "cell_type": "code",
   "execution_count": 37,
   "id": "6beec8b8-3104-43c3-80d3-766a794b750a",
   "metadata": {},
   "outputs": [
    {
     "data": {
      "text/plain": [
       "[1, 4, 9, 16, 25, 36, 49, 64, 81, 100]"
      ]
     },
     "execution_count": 37,
     "metadata": {},
     "output_type": "execute_result"
    }
   ],
   "source": [
    "list(map(square, range(1,11)))"
   ]
  },
  {
   "cell_type": "markdown",
   "id": "42d9ff16-f3e7-4f22-be65-50db47e3a1c1",
   "metadata": {},
   "source": [
    "# Q2. v) Find the cube root of numbers from 1 to 10"
   ]
  },
  {
   "cell_type": "code",
   "execution_count": 38,
   "id": "af49f120-e4d4-4672-8ff8-7dbadf8ce14d",
   "metadata": {},
   "outputs": [
    {
     "data": {
      "text/plain": [
       "[1, 8, 27, 64, 125, 216, 343, 512, 729, 1000]"
      ]
     },
     "execution_count": 38,
     "metadata": {},
     "output_type": "execute_result"
    }
   ],
   "source": [
    "list(map(lambda x: x**3, range(1,11)))"
   ]
  },
  {
   "cell_type": "markdown",
   "id": "88b50e01-d2a7-4a15-92cc-2639023d514a",
   "metadata": {},
   "source": [
    "# Q2. vi) Check if a given number is even"
   ]
  },
  {
   "cell_type": "code",
   "execution_count": 46,
   "id": "015263a9-f4ca-4c51-b26f-840b4c3fecc0",
   "metadata": {},
   "outputs": [
    {
     "data": {
      "text/plain": [
       "'Even Number'"
      ]
     },
     "execution_count": 46,
     "metadata": {},
     "output_type": "execute_result"
    }
   ],
   "source": [
    "check_even=lambda x: \"Even Number\" if x%2==0 else \"Odd Number\"\n",
    "check_even(18)"
   ]
  },
  {
   "cell_type": "markdown",
   "id": "53d979d4-e93d-4c70-b080-c55d8f9c087b",
   "metadata": {},
   "source": [
    "# Q2. vii) Filter odd numbers from the given list. [1,2,3,4,5,6,7,8,9,10]"
   ]
  },
  {
   "cell_type": "code",
   "execution_count": 54,
   "id": "fe633780-216b-4ac8-95f5-4bb2a7c9abeb",
   "metadata": {},
   "outputs": [
    {
     "data": {
      "text/plain": [
       "[1, 3, 5, 7, 9]"
      ]
     },
     "execution_count": 54,
     "metadata": {},
     "output_type": "execute_result"
    }
   ],
   "source": [
    "my_list=[1,2,3,4,5,6,7,8,9,10]\n",
    "list(filter(lambda x: x%2==1,my_list))"
   ]
  },
  {
   "cell_type": "markdown",
   "id": "de19f84e-0dac-4bb7-9ee2-f7a39ea870c8",
   "metadata": {},
   "source": [
    "# Q2. viii) Sort a list of integers into positive and negative integers lists.[1,2,3,4,5,6,-1,-2,-3,-4,-5,0]"
   ]
  },
  {
   "cell_type": "code",
   "execution_count": 63,
   "id": "b8b795a3-2f43-4543-976e-71ba91ceaa3d",
   "metadata": {},
   "outputs": [
    {
     "name": "stdout",
     "output_type": "stream",
     "text": [
      "Positive integers: [1, 2, 3, 4, 5, 6]\n",
      "Negative integers: [-1, -2, -3, -4, -5]\n"
     ]
    }
   ],
   "source": [
    "my_list1=[1,2,3,4,5,6,-1,-2,-3,-4,-5,0]\n",
    "Positive_numbers= list(filter(lambda x: x>0, my_list1))\n",
    "Negative_numbers= list(filter(lambda x: x<0, my_list1))\n",
    "print(\"Positive integers:\", Positive_numbers)\n",
    "print(\"Negative integers:\",Negative_numbers)"
   ]
  }
 ],
 "metadata": {
  "kernelspec": {
   "display_name": "Python 3 (ipykernel)",
   "language": "python",
   "name": "python3"
  },
  "language_info": {
   "codemirror_mode": {
    "name": "ipython",
    "version": 3
   },
   "file_extension": ".py",
   "mimetype": "text/x-python",
   "name": "python",
   "nbconvert_exporter": "python",
   "pygments_lexer": "ipython3",
   "version": "3.10.8"
  }
 },
 "nbformat": 4,
 "nbformat_minor": 5
}
